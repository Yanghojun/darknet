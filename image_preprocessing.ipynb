{
 "cells": [
  {
   "cell_type": "code",
   "execution_count": 4,
   "metadata": {},
   "outputs": [],
   "source": [
    "import numpy as np\n",
    "import imageio as iio\n",
    " \n",
    "img = iio.v2.imread('./data/4.png')\n",
    "img_1, img_2, img_3 = img[:,:,0], img[:,:,1], img[:,:,2]\n",
    " \n",
    "img_3 = np.expand_dims(img_3, axis=2)\n",
    " \n",
    "# img_1 = np.concatenate((img_1, img_1, img_1), axis=2)\n",
    "# img2 = np.concatenate((img2, img2, img2), axis=2)\n",
    "img_3 = np.concatenate((img_3, img_3, img_3), axis=2)\n",
    " \n",
    "iio.v2.imwrite('./data/4_4.png', img_3)\n",
    " \n",
    " \n",
    "# img = iio.v2.imread('./3.png')\n",
    " \n",
    "# img = np.expand_dims(img, axis=img.ndim)\n",
    " \n",
    "# img = np.concatenate((img, img, img), axis=2)\n",
    " \n",
    "# iio.v2.imwrite('./3_3_3.png', img)"
   ]
  },
  {
   "cell_type": "code",
   "execution_count": 5,
   "metadata": {},
   "outputs": [
    {
     "name": "stdout",
     "output_type": "stream",
     "text": [
      "Requirement already satisfied: numpy in /usr/local/lib/python3.8/dist-packages (1.24.2)\n",
      "Collecting imageio\n",
      "  Downloading imageio-2.25.0-py3-none-any.whl (3.4 MB)\n",
      "\u001b[K     |████████████████████████████████| 3.4 MB 2.1 MB/s eta 0:00:01\n",
      "\u001b[?25hRequirement already satisfied: numpy in /usr/local/lib/python3.8/dist-packages (from imageio) (1.24.2)\n",
      "Collecting pillow>=8.3.2\n",
      "  Downloading Pillow-9.4.0-cp38-cp38-manylinux_2_17_x86_64.manylinux2014_x86_64.whl (3.3 MB)\n",
      "\u001b[K     |████████████████████████████████| 3.3 MB 2.6 MB/s eta 0:00:01\n",
      "\u001b[?25hInstalling collected packages: pillow, imageio\n",
      "Successfully installed imageio-2.25.0 pillow-9.4.0\n"
     ]
    }
   ],
   "source": [
    "!pip3 install numpy\n",
    "!pip3 install imageio"
   ]
  }
 ],
 "metadata": {
  "kernelspec": {
   "display_name": "Python 3",
   "language": "python",
   "name": "python3"
  },
  "language_info": {
   "codemirror_mode": {
    "name": "ipython",
    "version": 3
   },
   "file_extension": ".py",
   "mimetype": "text/x-python",
   "name": "python",
   "nbconvert_exporter": "python",
   "pygments_lexer": "ipython3",
   "version": "3.8.10"
  },
  "orig_nbformat": 4,
  "vscode": {
   "interpreter": {
    "hash": "31f2aee4e71d21fbe5cf8b01ff0e069b9275f58929596ceb00d14d90e3e16cd6"
   }
  }
 },
 "nbformat": 4,
 "nbformat_minor": 2
}
